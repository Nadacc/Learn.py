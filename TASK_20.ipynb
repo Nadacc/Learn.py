{
  "nbformat": 4,
  "nbformat_minor": 0,
  "metadata": {
    "colab": {
      "name": "TASK 20.ipynb",
      "provenance": [],
      "include_colab_link": true
    },
    "kernelspec": {
      "name": "python3",
      "display_name": "Python 3"
    },
    "language_info": {
      "name": "python"
    }
  },
  "cells": [
    {
      "cell_type": "markdown",
      "metadata": {
        "id": "view-in-github",
        "colab_type": "text"
      },
      "source": [
        "<a href=\"https://colab.research.google.com/github/Nadacc/Learn.py/blob/main/TASK_20.ipynb\" target=\"_parent\"><img src=\"https://colab.research.google.com/assets/colab-badge.svg\" alt=\"Open In Colab\"/></a>"
      ]
    },
    {
      "cell_type": "markdown",
      "metadata": {
        "id": "8LIfdcjDWmC3"
      },
      "source": [
        "1. In the data given below,\n",
        "  - find the boolean mask where value is nan\n",
        "  - remove the row with missing data.\n"
      ]
    },
    {
      "cell_type": "markdown",
      "metadata": {
        "id": "VPCGISRTbYPz"
      },
      "source": [
        ""
      ]
    },
    {
      "cell_type": "code",
      "metadata": {
        "colab": {
          "base_uri": "https://localhost:8080/"
        },
        "id": "VsZQYRqXXHpG",
        "outputId": "e3ac4cb6-20a9-4e0e-c163-456b96034aa2"
      },
      "source": [
        "import pandas as pd\n",
        "import numpy as np\n",
        "dates = pd.date_range('20210101',periods=6)\n",
        "df = pd.DataFrame(np.random.randn(6,4), index=dates,columns=list('ABCD'))\n",
        "s1 = pd.Series([1,2,3,4,5,6], index=pd.date_range('20130102', periods=6))\n",
        "df[\"F\"]=s1\n",
        "df1=df.reindex(index=dates[0:4], columns=list(df.columns) + ['E'])\n",
        "df1.loc[dates[0]:dates[1],'E'] = 1\n",
        "print(df1)\n",
        "#please provide your answer below this line\n",
        "print(df1.isnull())\n",
        "print(df1.dropna(axis=0))"
      ],
      "execution_count": 5,
      "outputs": [
        {
          "output_type": "stream",
          "name": "stdout",
          "text": [
            "                   A         B         C         D   F    E\n",
            "2021-01-01 -0.507347  0.063913 -0.964919 -0.693050 NaN  1.0\n",
            "2021-01-02  0.418174 -0.957965  1.456659 -0.954207 NaN  1.0\n",
            "2021-01-03 -1.175072 -1.032517  1.534564  0.625919 NaN  NaN\n",
            "2021-01-04 -0.686058  1.041652  0.574477  0.236140 NaN  NaN\n",
            "                A      B      C      D     F      E\n",
            "2021-01-01  False  False  False  False  True  False\n",
            "2021-01-02  False  False  False  False  True  False\n",
            "2021-01-03  False  False  False  False  True   True\n",
            "2021-01-04  False  False  False  False  True   True\n",
            "Empty DataFrame\n",
            "Columns: [A, B, C, D, F, E]\n",
            "Index: []\n"
          ]
        }
      ]
    },
    {
      "cell_type": "markdown",
      "metadata": {
        "id": "z1sv0aluZhcd"
      },
      "source": [
        "2. In the data given below,fill the missing data with 20."
      ]
    },
    {
      "cell_type": "code",
      "metadata": {
        "colab": {
          "base_uri": "https://localhost:8080/"
        },
        "id": "x3ZHFCeyZ0j2",
        "outputId": "259d7f3c-1dca-4446-ac94-c0060a3a2cfa"
      },
      "source": [
        "import pandas as pd\n",
        "import numpy as np\n",
        "dates = pd.date_range('20210101',periods=6)\n",
        "df = pd.DataFrame(np.random.randn(6,4), index=dates,columns=list('ABCD'))\n",
        "s1 = pd.Series([1,2,3,4,5,6], index=pd.date_range('20130102', periods=6))\n",
        "df[\"F\"]=s1\n",
        "df1=df.reindex(index=dates[0:4], columns=list(df.columns) + ['E'])\n",
        "df1.loc[dates[0]:dates[1],'E'] = 1\n",
        "df1\n",
        "#please provide your answer below this line\n",
        "print(df1.fillna(value=20))"
      ],
      "execution_count": 1,
      "outputs": [
        {
          "output_type": "stream",
          "name": "stdout",
          "text": [
            "                   A         B         C         D     F     E\n",
            "2021-01-01 -1.018911  0.135221 -0.647315 -0.211194  20.0   1.0\n",
            "2021-01-02 -1.844293 -1.325311 -0.731698  1.828721  20.0   1.0\n",
            "2021-01-03 -0.162411  1.926896 -0.726869  0.054558  20.0  20.0\n",
            "2021-01-04  0.340322  0.864482 -0.387531 -0.287194  20.0  20.0\n"
          ]
        }
      ]
    },
    {
      "cell_type": "markdown",
      "metadata": {
        "id": "vMzwvpxcZ3G8"
      },
      "source": [
        "3. From the data given below,\n",
        "  - break the data in to pieces from 0 t0 2 ,3 t0 7\n",
        "  - concatenate the pieces.\n",
        "  - concatenate the pieces along axis 1\n",
        "  - label each as 'a' and 'b' respectively and perform concatenation."
      ]
    },
    {
      "cell_type": "code",
      "metadata": {
        "colab": {
          "base_uri": "https://localhost:8080/"
        },
        "id": "LxGwKPTVbbXV",
        "outputId": "278da6df-adcd-42ac-d132-c05056506673"
      },
      "source": [
        "import pandas as pd\n",
        "import numpy as np\n",
        "df = pd.DataFrame(np.random.randn(10, 4))\n",
        "df\n",
        "#please provide your answer below this line\n",
        "pieces=[df[:3],df[3:8]]\n",
        "print(pieces)\n",
        "print(pd.concat(pieces))\n",
        "print(pd.concat(pieces,axis=1))\n",
        "a=df[:3]\n",
        "b=df[3:8]\n",
        "print(pd.concat([a,b]))"
      ],
      "execution_count": 2,
      "outputs": [
        {
          "output_type": "stream",
          "name": "stdout",
          "text": [
            "[          0         1         2         3\n",
            "0 -1.338386  0.222576  0.455229  0.451681\n",
            "1  2.354392  0.979869 -1.066638 -0.532614\n",
            "2 -0.235906  0.685165 -0.694275 -0.267681,           0         1         2         3\n",
            "3 -0.166671  1.456250  0.075341 -0.593200\n",
            "4  0.087836  0.715846 -1.090010 -0.400737\n",
            "5 -1.460626  0.103923  1.047414  2.693722\n",
            "6 -0.003403  0.979908 -1.447735  1.081245\n",
            "7  0.771647 -0.156069  0.206514  0.618118]\n",
            "          0         1         2         3\n",
            "0 -1.338386  0.222576  0.455229  0.451681\n",
            "1  2.354392  0.979869 -1.066638 -0.532614\n",
            "2 -0.235906  0.685165 -0.694275 -0.267681\n",
            "3 -0.166671  1.456250  0.075341 -0.593200\n",
            "4  0.087836  0.715846 -1.090010 -0.400737\n",
            "5 -1.460626  0.103923  1.047414  2.693722\n",
            "6 -0.003403  0.979908 -1.447735  1.081245\n",
            "7  0.771647 -0.156069  0.206514  0.618118\n",
            "          0         1         2  ...         1         2         3\n",
            "0 -1.338386  0.222576  0.455229  ...       NaN       NaN       NaN\n",
            "1  2.354392  0.979869 -1.066638  ...       NaN       NaN       NaN\n",
            "2 -0.235906  0.685165 -0.694275  ...       NaN       NaN       NaN\n",
            "3       NaN       NaN       NaN  ...  1.456250  0.075341 -0.593200\n",
            "4       NaN       NaN       NaN  ...  0.715846 -1.090010 -0.400737\n",
            "5       NaN       NaN       NaN  ...  0.103923  1.047414  2.693722\n",
            "6       NaN       NaN       NaN  ...  0.979908 -1.447735  1.081245\n",
            "7       NaN       NaN       NaN  ... -0.156069  0.206514  0.618118\n",
            "\n",
            "[8 rows x 8 columns]\n",
            "          0         1         2         3\n",
            "0 -1.338386  0.222576  0.455229  0.451681\n",
            "1  2.354392  0.979869 -1.066638 -0.532614\n",
            "2 -0.235906  0.685165 -0.694275 -0.267681\n",
            "3 -0.166671  1.456250  0.075341 -0.593200\n",
            "4  0.087836  0.715846 -1.090010 -0.400737\n",
            "5 -1.460626  0.103923  1.047414  2.693722\n",
            "6 -0.003403  0.979908 -1.447735  1.081245\n",
            "7  0.771647 -0.156069  0.206514  0.618118\n"
          ]
        }
      ]
    },
    {
      "cell_type": "code",
      "metadata": {
        "id": "h290MAgudPQI"
      },
      "source": [
        ""
      ],
      "execution_count": null,
      "outputs": []
    }
  ]
}