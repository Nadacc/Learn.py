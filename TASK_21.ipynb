{
  "nbformat": 4,
  "nbformat_minor": 0,
  "metadata": {
    "colab": {
      "name": "TASK 21.ipynb",
      "provenance": [],
      "include_colab_link": true
    },
    "kernelspec": {
      "name": "python3",
      "display_name": "Python 3"
    },
    "language_info": {
      "name": "python"
    }
  },
  "cells": [
    {
      "cell_type": "markdown",
      "metadata": {
        "id": "view-in-github",
        "colab_type": "text"
      },
      "source": [
        "<a href=\"https://colab.research.google.com/github/Nadacc/Learn.py/blob/main/TASK_21.ipynb\" target=\"_parent\"><img src=\"https://colab.research.google.com/assets/colab-badge.svg\" alt=\"Open In Colab\"/></a>"
      ]
    },
    {
      "cell_type": "markdown",
      "metadata": {
        "id": "wK9sv7fHTnyo"
      },
      "source": [
        "1.  Using the dataset given below,\n",
        "  - Group the given dataset by A and find the sum of the groups.\n",
        "  - Find the 3 least elements from the column D\n",
        "  - Find the 3 largest elements from the Column D which belongs to the group\n",
        "  'bar'."
      ]
    },
    {
      "cell_type": "code",
      "metadata": {
        "id": "C_Kq4i_rVNyB",
        "outputId": "a424daf5-ceab-4158-d968-08b07ce4e740",
        "colab": {
          "base_uri": "https://localhost:8080/"
        }
      },
      "source": [
        "import pandas as pd\n",
        "import numpy as np\n",
        "df = pd.DataFrame({'A' : ['foo', 'bar', 'foo', 'bar',\n",
        "                          'foo', 'bar', 'foo', 'foo'],\n",
        "                   'B' : ['one', 'one', 'two', 'three',\n",
        "                          'two', 'two', 'one', 'three'],\n",
        "                   'C' : np.random.randn(8),\n",
        "                   'D' : np.random.randn(8)})\n",
        "print(df)\n",
        "#please type your code below this line.\n",
        "print(df.groupby([\"A\"]).sum())\n",
        "print(df.nsmallest(3,[\"D\"]))\n",
        "print(df.nlargest(3,[\"D\"]))"
      ],
      "execution_count": 1,
      "outputs": [
        {
          "output_type": "stream",
          "name": "stdout",
          "text": [
            "     A      B         C         D\n",
            "0  foo    one -0.801597  0.353594\n",
            "1  bar    one  1.011300 -0.129711\n",
            "2  foo    two -0.311279  1.622634\n",
            "3  bar  three  0.119499 -1.372101\n",
            "4  foo    two  0.553133  0.912541\n",
            "5  bar    two  0.591779 -0.031824\n",
            "6  foo    one -0.829549  0.763005\n",
            "7  foo  three  1.194778  1.427312\n",
            "            C         D\n",
            "A                      \n",
            "bar  1.722578 -1.533636\n",
            "foo -0.194515  5.079087\n",
            "     A      B         C         D\n",
            "3  bar  three  0.119499 -1.372101\n",
            "1  bar    one  1.011300 -0.129711\n",
            "5  bar    two  0.591779 -0.031824\n",
            "     A      B         C         D\n",
            "2  foo    two -0.311279  1.622634\n",
            "7  foo  three  1.194778  1.427312\n",
            "4  foo    two  0.553133  0.912541\n"
          ]
        }
      ]
    },
    {
      "cell_type": "markdown",
      "metadata": {
        "id": "68XLHGsrdHXb"
      },
      "source": [
        "2. Using the dataset given below,\n",
        "  - convert the dataset into a csv file.\n",
        "  - read the csv file just saved\n",
        "  - covert the dataset into a excel file.\n",
        "  - read the excel file just saved."
      ]
    },
    {
      "cell_type": "code",
      "metadata": {
        "id": "J4BOx3UZdVLV",
        "outputId": "f9fbf2b1-5e99-45ff-f672-826f9b40ad5f",
        "colab": {
          "base_uri": "https://localhost:8080/"
        }
      },
      "source": [
        "import pandas as pd\n",
        "import numpy as np\n",
        "df = pd.DataFrame({'A' : ['foo', 'bar', 'foo', 'bar',\n",
        "                          'foo', 'bar', 'foo', 'foo'],\n",
        "                   'B' : ['one', 'one', 'two', 'three',\n",
        "                          'two', 'two', 'one', 'three'],\n",
        "                   'C' : np.random.randn(8),\n",
        "                   'D' : np.random.randn(8)})\n",
        "#please type your code below this line.\n",
        "print(df)\n",
        "print(df.to_csv('data.csv'))\n",
        "print(pd.read_csv('data.csv',index_col=0))\n",
        "file_name='datasheet.xlsx'\n",
        "print(df.to_excel(file_name))\n",
        "print(pd.read_excel('datasheet.xlsx',index_col=0))"
      ],
      "execution_count": 3,
      "outputs": [
        {
          "output_type": "stream",
          "name": "stdout",
          "text": [
            "     A      B         C         D\n",
            "0  foo    one -1.382665 -0.291611\n",
            "1  bar    one -0.520244  0.551387\n",
            "2  foo    two -1.082748  0.707898\n",
            "3  bar  three  0.668964 -2.289023\n",
            "4  foo    two -2.156243  0.546380\n",
            "5  bar    two  0.023861  0.092107\n",
            "6  foo    one  0.944548  0.944296\n",
            "7  foo  three -0.864597 -1.505669\n",
            "None\n",
            "     A      B         C         D\n",
            "0  foo    one -1.382665 -0.291611\n",
            "1  bar    one -0.520244  0.551387\n",
            "2  foo    two -1.082748  0.707898\n",
            "3  bar  three  0.668964 -2.289023\n",
            "4  foo    two -2.156243  0.546380\n",
            "5  bar    two  0.023861  0.092107\n",
            "6  foo    one  0.944548  0.944296\n",
            "7  foo  three -0.864597 -1.505669\n",
            "None\n",
            "     A      B         C         D\n",
            "0  foo    one -1.382665 -0.291611\n",
            "1  bar    one -0.520244  0.551387\n",
            "2  foo    two -1.082748  0.707898\n",
            "3  bar  three  0.668964 -2.289023\n",
            "4  foo    two -2.156243  0.546380\n",
            "5  bar    two  0.023861  0.092107\n",
            "6  foo    one  0.944548  0.944296\n",
            "7  foo  three -0.864597 -1.505669\n"
          ]
        }
      ]
    }
  ]
}