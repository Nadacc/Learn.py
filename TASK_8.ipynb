{
  "nbformat": 4,
  "nbformat_minor": 0,
  "metadata": {
    "colab": {
      "name": "TASK 8.ipynb",
      "provenance": [],
      "include_colab_link": true
    },
    "kernelspec": {
      "name": "python3",
      "display_name": "Python 3"
    },
    "language_info": {
      "name": "python"
    }
  },
  "cells": [
    {
      "cell_type": "markdown",
      "metadata": {
        "id": "view-in-github",
        "colab_type": "text"
      },
      "source": [
        "<a href=\"https://colab.research.google.com/github/Nadacc/Learn.py/blob/main/TASK_8.ipynb\" target=\"_parent\"><img src=\"https://colab.research.google.com/assets/colab-badge.svg\" alt=\"Open In Colab\"/></a>"
      ]
    },
    {
      "cell_type": "markdown",
      "metadata": {
        "id": "slsGswYbJSo7"
      },
      "source": [
        "1. Generate a 3 x 3 matrix using random module."
      ]
    },
    {
      "cell_type": "code",
      "metadata": {
        "id": "GGRQSYyNJW9t",
        "outputId": "38a108ee-d508-4dc8-ce4a-fc84c1b45481",
        "colab": {
          "base_uri": "https://localhost:8080/"
        }
      },
      "source": [
        "#please provide your answer below this line.\n",
        "import numpy as np\n",
        "array=np.random.randint(10,size=(3,3))\n",
        "print(array)"
      ],
      "execution_count": 1,
      "outputs": [
        {
          "output_type": "stream",
          "text": [
            "[[0 0 0]\n",
            " [0 0 2]\n",
            " [3 0 3]]\n"
          ],
          "name": "stdout"
        }
      ]
    },
    {
      "cell_type": "markdown",
      "metadata": {
        "id": "4OB9KFX6JfYA"
      },
      "source": [
        "2. Generate two 4 x 4 matrix using numpy and \n",
        "\n",
        " a) Reshape it to 2 x 8matrix and vertically stack it.\n",
        "\n",
        " b) Reshape it to 2 x 8 matrix and horizontally stack it."
      ]
    },
    {
      "cell_type": "code",
      "metadata": {
        "id": "VoIqYeNWJ4H_",
        "outputId": "7d6e73e7-fe70-45a2-f604-3652a9663a95",
        "colab": {
          "base_uri": "https://localhost:8080/"
        }
      },
      "source": [
        "#please provide your answer below this line.\n",
        "import numpy as np\n",
        "array1=np.random.randint(10,size=(4,4))\n",
        "print(array1)\n",
        "array2=np.random.randint(10,size=(4,4))\n",
        "print(array2)\n",
        "x=array1.reshape(2,8)\n",
        "y=array2.reshape(2,8)\n",
        "print(np.vstack((x,y)))\n",
        "print(np.hstack((x,y)))"
      ],
      "execution_count": 3,
      "outputs": [
        {
          "output_type": "stream",
          "text": [
            "[[2 9 8 7]\n",
            " [9 3 8 6]\n",
            " [6 8 0 5]\n",
            " [7 9 3 6]]\n",
            "[[3 4 9 3]\n",
            " [3 2 0 0]\n",
            " [9 0 5 9]\n",
            " [4 0 0 3]]\n",
            "[[2 9 8 7 9 3 8 6]\n",
            " [6 8 0 5 7 9 3 6]\n",
            " [3 4 9 3 3 2 0 0]\n",
            " [9 0 5 9 4 0 0 3]]\n",
            "[[2 9 8 7 9 3 8 6 3 4 9 3 3 2 0 0]\n",
            " [6 8 0 5 7 9 3 6 9 0 5 9 4 0 0 3]]\n"
          ],
          "name": "stdout"
        }
      ]
    }
  ]
}