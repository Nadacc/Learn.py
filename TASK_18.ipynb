{
  "nbformat": 4,
  "nbformat_minor": 0,
  "metadata": {
    "colab": {
      "name": "TASK 18.ipynb",
      "provenance": [],
      "include_colab_link": true
    },
    "kernelspec": {
      "name": "python3",
      "display_name": "Python 3"
    },
    "language_info": {
      "name": "python"
    }
  },
  "cells": [
    {
      "cell_type": "markdown",
      "metadata": {
        "id": "view-in-github",
        "colab_type": "text"
      },
      "source": [
        "<a href=\"https://colab.research.google.com/github/Nadacc/Learn.py/blob/main/TASK_18.ipynb\" target=\"_parent\"><img src=\"https://colab.research.google.com/assets/colab-badge.svg\" alt=\"Open In Colab\"/></a>"
      ]
    },
    {
      "cell_type": "markdown",
      "metadata": {
        "id": "_JgXT8pEAjU4"
      },
      "source": [
        "1. \n",
        "Create a DataFrame by passing a random numpy array,with a datetie index and labelled columns.and,\n",
        "    - slice its first three rows and display.\n",
        "    - slice its odd indexed rows.\n",
        "    - display the dates from 1st postion to 4 th position."
      ]
    },
    {
      "cell_type": "code",
      "metadata": {
        "id": "5zFM5VOJBKBV",
        "outputId": "ad25f19c-58ee-409e-e5a4-e9d8cbce388c",
        "colab": {
          "base_uri": "https://localhost:8080/"
        }
      },
      "source": [
        "#please provide your answer below this line.\n",
        "import pandas as pd\n",
        "import numpy as np\n",
        "dates=pd.date_range('20201010',periods=6)\n",
        "df=pd.DataFrame(np.random.randn(6,4),index=dates,columns=list('ABCD'))\n",
        "print(df)\n",
        "print(df.iloc[0:3])\n",
        "print(df.iloc[1::2])\n",
        "print(df.iloc[0:5])"
      ],
      "execution_count": 2,
      "outputs": [
        {
          "output_type": "stream",
          "name": "stdout",
          "text": [
            "                   A         B         C         D\n",
            "2020-10-10 -0.235475 -0.693758  0.088107 -1.646906\n",
            "2020-10-11 -0.223308  0.122562 -0.123458  0.634001\n",
            "2020-10-12 -1.109516 -2.004964 -1.158290  0.171047\n",
            "2020-10-13  0.999371 -0.351151 -0.580344  1.017759\n",
            "2020-10-14  0.798069  1.065716  0.104291 -0.530184\n",
            "2020-10-15 -0.600610  1.075511  0.146445  0.205905\n",
            "                   A         B         C         D\n",
            "2020-10-10 -0.235475 -0.693758  0.088107 -1.646906\n",
            "2020-10-11 -0.223308  0.122562 -0.123458  0.634001\n",
            "2020-10-12 -1.109516 -2.004964 -1.158290  0.171047\n",
            "                   A         B         C         D\n",
            "2020-10-11 -0.223308  0.122562 -0.123458  0.634001\n",
            "2020-10-13  0.999371 -0.351151 -0.580344  1.017759\n",
            "2020-10-15 -0.600610  1.075511  0.146445  0.205905\n",
            "                   A         B         C         D\n",
            "2020-10-10 -0.235475 -0.693758  0.088107 -1.646906\n",
            "2020-10-11 -0.223308  0.122562 -0.123458  0.634001\n",
            "2020-10-12 -1.109516 -2.004964 -1.158290  0.171047\n",
            "2020-10-13  0.999371 -0.351151 -0.580344  1.017759\n",
            "2020-10-14  0.798069  1.065716  0.104291 -0.530184\n"
          ]
        }
      ]
    },
    {
      "cell_type": "markdown",
      "metadata": {
        "id": "QuoucvjxBPmX"
      },
      "source": [
        "2. Create a DataFrame by passing a random numpy array,with a datetie index and labelled columns.and\n",
        "  - Dislplay the index from the 1 to 3 date and the columns A and B of respective data.\n",
        "  - Display the datas at the 3rd index.\n",
        "  - Display datas from 2nd to 5th.\n",
        "  - Display the datas from the index 1,2,4 and the column 0 and 2."
      ]
    },
    {
      "cell_type": "code",
      "metadata": {
        "id": "qV_wzsp1DUKI",
        "outputId": "b4ee14eb-dacf-4c42-cfbe-d0c216318b3f",
        "colab": {
          "base_uri": "https://localhost:8080/"
        }
      },
      "source": [
        "#please provide your answer below thins line.\n",
        "import pandas as pd\n",
        "import numpy as np\n",
        "dates=pd.date_range('20201010',periods=6)\n",
        "df=pd.DataFrame(np.random.randn(6,4),index=dates,columns=list('ABCD'))\n",
        "print(df)\n",
        "print(df.iloc[1:4,0:2])\n",
        "print(df.iloc[2:6])\n",
        "print(df.iloc[[1,2,4],[0,2]])"
      ],
      "execution_count": 4,
      "outputs": [
        {
          "output_type": "stream",
          "name": "stdout",
          "text": [
            "                   A         B         C         D\n",
            "2020-10-10  0.530222 -0.419876 -0.703253  0.290205\n",
            "2020-10-11 -0.387873  0.577377 -0.642540  0.941206\n",
            "2020-10-12  0.235342 -0.850559 -1.116281  0.425633\n",
            "2020-10-13  1.007408  0.391491 -0.509852 -0.050527\n",
            "2020-10-14 -0.630066  1.288288 -0.775468  0.625130\n",
            "2020-10-15 -0.551278 -0.308918 -0.582560  1.232497\n",
            "                   A         B\n",
            "2020-10-11 -0.387873  0.577377\n",
            "2020-10-12  0.235342 -0.850559\n",
            "2020-10-13  1.007408  0.391491\n",
            "                   A         B         C         D\n",
            "2020-10-12  0.235342 -0.850559 -1.116281  0.425633\n",
            "2020-10-13  1.007408  0.391491 -0.509852 -0.050527\n",
            "2020-10-14 -0.630066  1.288288 -0.775468  0.625130\n",
            "2020-10-15 -0.551278 -0.308918 -0.582560  1.232497\n",
            "                   A         C\n",
            "2020-10-11 -0.387873 -0.642540\n",
            "2020-10-12  0.235342 -1.116281\n",
            "2020-10-14 -0.630066 -0.775468\n"
          ]
        }
      ]
    }
  ]
}