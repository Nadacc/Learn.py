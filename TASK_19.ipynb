{
  "nbformat": 4,
  "nbformat_minor": 0,
  "metadata": {
    "colab": {
      "name": "TASK 19.ipynb",
      "provenance": [],
      "include_colab_link": true
    },
    "kernelspec": {
      "name": "python3",
      "display_name": "Python 3"
    },
    "language_info": {
      "name": "python"
    }
  },
  "cells": [
    {
      "cell_type": "markdown",
      "metadata": {
        "id": "view-in-github",
        "colab_type": "text"
      },
      "source": [
        "<a href=\"https://colab.research.google.com/github/Nadacc/Learn.py/blob/main/TASK_19.ipynb\" target=\"_parent\"><img src=\"https://colab.research.google.com/assets/colab-badge.svg\" alt=\"Open In Colab\"/></a>"
      ]
    },
    {
      "cell_type": "markdown",
      "metadata": {
        "id": "6J-6GvX2JUcC"
      },
      "source": [
        "1. Create a DataFrame by passing a random numpy array,with a dateted index and labelled columns and display,\n",
        "  - where values of the column A is greater than 0.\n",
        "  - where values of the columns A is greater than 0 and B greater than -1.\n",
        "  - where values of the columns A  is greater than 0 or B greater than -1.\n"
      ]
    },
    {
      "cell_type": "code",
      "metadata": {
        "id": "xX-5VikpLcHL",
        "outputId": "e5802e1b-bbe7-4d2e-c8ee-4a2051169443",
        "colab": {
          "base_uri": "https://localhost:8080/"
        }
      },
      "source": [
        "#please type your code below this line.\n",
        "import pandas as pd\n",
        "import numpy as np\n",
        "dates=pd.date_range('20201010',periods=6)\n",
        "df=pd.DataFrame(np.random.randn(6,4),index=dates,columns=list('ABCD'))\n",
        "print(df)\n",
        "a=df[df.A>0]\n",
        "print(a)\n",
        "print(df[(df.A>0)&(df.B>-1)])\n",
        "print(df[(df.A>0)|(df.B>-1)])"
      ],
      "execution_count": 2,
      "outputs": [
        {
          "output_type": "stream",
          "name": "stdout",
          "text": [
            "                   A         B         C         D\n",
            "2020-10-10  0.999944 -1.391978 -1.568874  0.646580\n",
            "2020-10-11  0.332933  0.606289 -0.143910 -0.450965\n",
            "2020-10-12 -0.879941  0.478806  0.691493 -0.722067\n",
            "2020-10-13  1.165322  0.193832  0.531572  0.277141\n",
            "2020-10-14 -0.652198 -0.019711  0.329643  0.932926\n",
            "2020-10-15  0.516304  1.268980 -0.210664 -0.195112\n",
            "                   A         B         C         D\n",
            "2020-10-10  0.999944 -1.391978 -1.568874  0.646580\n",
            "2020-10-11  0.332933  0.606289 -0.143910 -0.450965\n",
            "2020-10-13  1.165322  0.193832  0.531572  0.277141\n",
            "2020-10-15  0.516304  1.268980 -0.210664 -0.195112\n",
            "                   A         B         C         D\n",
            "2020-10-11  0.332933  0.606289 -0.143910 -0.450965\n",
            "2020-10-13  1.165322  0.193832  0.531572  0.277141\n",
            "2020-10-15  0.516304  1.268980 -0.210664 -0.195112\n",
            "                   A         B         C         D\n",
            "2020-10-10  0.999944 -1.391978 -1.568874  0.646580\n",
            "2020-10-11  0.332933  0.606289 -0.143910 -0.450965\n",
            "2020-10-12 -0.879941  0.478806  0.691493 -0.722067\n",
            "2020-10-13  1.165322  0.193832  0.531572  0.277141\n",
            "2020-10-14 -0.652198 -0.019711  0.329643  0.932926\n",
            "2020-10-15  0.516304  1.268980 -0.210664 -0.195112\n"
          ]
        }
      ]
    },
    {
      "cell_type": "markdown",
      "metadata": {
        "id": "1WAf9SbwLp6o"
      },
      "source": [
        "2. Create a DataFrame by passing a random numpy array,with a dateted index and labelled columns and check if ,\n",
        "  - the values of the table are greater the zero or not.\n",
        "  - the value at the postion (0,0) is equal to NaN or not."
      ]
    },
    {
      "cell_type": "code",
      "metadata": {
        "id": "rBrt8pMeM2Q5",
        "outputId": "f84fea12-bfcc-4abb-974b-7d4ea5a749d8",
        "colab": {
          "base_uri": "https://localhost:8080/"
        }
      },
      "source": [
        "#please type your code below this line.\n",
        "import pandas as pd\n",
        "import numpy as np \n",
        "dates=pd.date_range('20201010',periods=6)\n",
        "df=pd.DataFrame(np.random.randn(6,4),index=dates,columns=list('ABCD'))\n",
        "print(df)\n",
        "print(df>0)\n",
        "df1=df.loc[dates[0],'A']\n",
        "print(pd.isna(df1))"
      ],
      "execution_count": 5,
      "outputs": [
        {
          "output_type": "stream",
          "name": "stdout",
          "text": [
            "                   A         B         C         D\n",
            "2020-10-10 -0.352826 -0.918882 -0.927196 -1.056849\n",
            "2020-10-11  0.156231 -1.913722 -1.342134  0.111230\n",
            "2020-10-12 -0.306235  1.344860  2.334643  1.693327\n",
            "2020-10-13  0.156617 -0.797080  1.158129 -0.644799\n",
            "2020-10-14  0.728338  0.936147 -1.614035  1.484006\n",
            "2020-10-15  0.020216  0.158013 -1.054790  1.501545\n",
            "                A      B      C      D\n",
            "2020-10-10  False  False  False  False\n",
            "2020-10-11   True  False  False   True\n",
            "2020-10-12  False   True   True   True\n",
            "2020-10-13   True  False   True  False\n",
            "2020-10-14   True   True  False   True\n",
            "2020-10-15   True   True  False   True\n",
            "False\n"
          ]
        }
      ]
    },
    {
      "cell_type": "code",
      "metadata": {
        "id": "sL6_Fj2ndBbj"
      },
      "source": [
        ""
      ],
      "execution_count": null,
      "outputs": []
    },
    {
      "cell_type": "markdown",
      "metadata": {
        "id": "IfM9XYmiNaKB"
      },
      "source": [
        "3. Create a DataFrame by passing a random numpy array,with a dateted index and labelled columns and,\n",
        "  - reindex the index with even dates.\n",
        "  - create a column with values NaN.\n",
        "  - make the values of the first two index of the newly created column as 1"
      ]
    },
    {
      "cell_type": "code",
      "metadata": {
        "id": "F-w8kEfaORg3",
        "outputId": "ae6cf13f-8ff9-49d1-8750-3f784f19490f",
        "colab": {
          "base_uri": "https://localhost:8080/"
        }
      },
      "source": [
        "#please type your answer below this line.\n",
        "import pandas as pd\n",
        "import numpy as np\n",
        "dates=pd.date_range('20201010',periods=6)\n",
        "df=pd.DataFrame(np.random.randn(6,4),index=dates,columns=list('ABCD'))\n",
        "print(df)\n",
        "df1=df.reindex(index=dates[::2],columns=list(df.columns))\n",
        "print(df1.assign(E=np.nan))\n",
        "df1.loc[dates[0]:dates[2],'E']=1\n",
        "print(df1)"
      ],
      "execution_count": 4,
      "outputs": [
        {
          "output_type": "stream",
          "name": "stdout",
          "text": [
            "                   A         B         C         D\n",
            "2020-10-10  0.488412  1.373173  0.030520 -1.274924\n",
            "2020-10-11 -0.725359 -0.032454  0.353106  0.247096\n",
            "2020-10-12 -0.327759 -0.720972  0.649783  0.312814\n",
            "2020-10-13  0.040187  3.239895  1.716529 -0.382060\n",
            "2020-10-14  0.518097  0.093347 -2.474900 -0.055085\n",
            "2020-10-15  0.731988  2.626651 -0.196275  0.697218\n",
            "                   A         B         C         D   E\n",
            "2020-10-10  0.488412  1.373173  0.030520 -1.274924 NaN\n",
            "2020-10-12 -0.327759 -0.720972  0.649783  0.312814 NaN\n",
            "2020-10-14  0.518097  0.093347 -2.474900 -0.055085 NaN\n",
            "                   A         B         C         D    E\n",
            "2020-10-10  0.488412  1.373173  0.030520 -1.274924  1.0\n",
            "2020-10-12 -0.327759 -0.720972  0.649783  0.312814  1.0\n",
            "2020-10-14  0.518097  0.093347 -2.474900 -0.055085  NaN\n"
          ]
        }
      ]
    }
  ]
}