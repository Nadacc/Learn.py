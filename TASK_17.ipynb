{
  "nbformat": 4,
  "nbformat_minor": 0,
  "metadata": {
    "colab": {
      "name": "TASK 17.ipynb",
      "provenance": [],
      "include_colab_link": true
    },
    "kernelspec": {
      "name": "python3",
      "display_name": "Python 3"
    },
    "language_info": {
      "name": "python"
    }
  },
  "cells": [
    {
      "cell_type": "markdown",
      "metadata": {
        "id": "view-in-github",
        "colab_type": "text"
      },
      "source": [
        "<a href=\"https://colab.research.google.com/github/Nadacc/Learn.py/blob/main/TASK_17.ipynb\" target=\"_parent\"><img src=\"https://colab.research.google.com/assets/colab-badge.svg\" alt=\"Open In Colab\"/></a>"
      ]
    },
    {
      "cell_type": "markdown",
      "metadata": {
        "id": "0SLapvpoaeYY"
      },
      "source": [
        "1. Create a DataFrame by passing a random numpy array,with a datetie index and labelled columns.and display its,\n",
        "     - Head\n",
        "     - Tail\n",
        "     - Index \n",
        "     - Columns\n",
        "     - Values\n",
        "     - statistics\n"
      ]
    },
    {
      "cell_type": "code",
      "metadata": {
        "id": "zJDkjyVxa5yU",
        "outputId": "c76e22b0-1ffb-428d-cc4a-74f56bd1a042",
        "colab": {
          "base_uri": "https://localhost:8080/"
        }
      },
      "source": [
        "#please type your answer below this line.\n",
        "import pandas as pd\n",
        "import numpy as np\n",
        "dates=pd.date_range('20201010',periods=6)\n",
        "df=pd.DataFrame(np.random.randn(6,4),index=dates,columns=list('ABCD'))\n",
        "print(df)\n",
        "print(df.head())\n",
        "print(df.tail())\n",
        "print(df.index)\n",
        "print(pd.set_option('display.max_columns',None))\n",
        "print(df.values)\n",
        "print(df.describe())"
      ],
      "execution_count": 1,
      "outputs": [
        {
          "output_type": "stream",
          "name": "stdout",
          "text": [
            "                   A         B         C         D\n",
            "2020-10-10  0.759958  0.078606  0.529964 -0.751579\n",
            "2020-10-11 -1.444173  0.098194  2.035243 -0.125359\n",
            "2020-10-12  0.807324  0.014057  0.098161  0.232135\n",
            "2020-10-13 -0.369636  0.373522 -0.044093 -0.043139\n",
            "2020-10-14 -0.273766  0.995796  1.670331  1.329138\n",
            "2020-10-15  0.194869 -0.702275 -0.542479  0.481151\n",
            "                   A         B         C         D\n",
            "2020-10-10  0.759958  0.078606  0.529964 -0.751579\n",
            "2020-10-11 -1.444173  0.098194  2.035243 -0.125359\n",
            "2020-10-12  0.807324  0.014057  0.098161  0.232135\n",
            "2020-10-13 -0.369636  0.373522 -0.044093 -0.043139\n",
            "2020-10-14 -0.273766  0.995796  1.670331  1.329138\n",
            "                   A         B         C         D\n",
            "2020-10-11 -1.444173  0.098194  2.035243 -0.125359\n",
            "2020-10-12  0.807324  0.014057  0.098161  0.232135\n",
            "2020-10-13 -0.369636  0.373522 -0.044093 -0.043139\n",
            "2020-10-14 -0.273766  0.995796  1.670331  1.329138\n",
            "2020-10-15  0.194869 -0.702275 -0.542479  0.481151\n",
            "DatetimeIndex(['2020-10-10', '2020-10-11', '2020-10-12', '2020-10-13',\n",
            "               '2020-10-14', '2020-10-15'],\n",
            "              dtype='datetime64[ns]', freq='D')\n",
            "None\n",
            "[[ 0.75995797  0.07860612  0.52996442 -0.75157866]\n",
            " [-1.44417265  0.09819439  2.0352428  -0.12535939]\n",
            " [ 0.80732385  0.01405734  0.09816147  0.232135  ]\n",
            " [-0.36963595  0.37352189 -0.04409252 -0.04313904]\n",
            " [-0.27376592  0.99579555  1.67033076  1.329138  ]\n",
            " [ 0.19486887 -0.70227535 -0.54247949  0.48115146]]\n",
            "              A         B         C         D\n",
            "count  6.000000  6.000000  6.000000  6.000000\n",
            "mean  -0.054237  0.142983  0.624521  0.187058\n",
            "std    0.842240  0.550939  1.017721  0.696348\n",
            "min   -1.444173 -0.702275 -0.542479 -0.751579\n",
            "25%   -0.345668  0.030195 -0.008529 -0.104804\n",
            "50%   -0.039449  0.088400  0.314063  0.094498\n",
            "75%    0.618686  0.304690  1.385239  0.418897\n",
            "max    0.807324  0.995796  2.035243  1.329138\n"
          ]
        }
      ]
    },
    {
      "cell_type": "markdown",
      "metadata": {
        "id": "xnkA2mKDdyoO"
      },
      "source": [
        "2. Use the above table and,\n",
        "      - find transpose of your data.\n",
        "      - sort the index in the descending order of the date."
      ]
    },
    {
      "cell_type": "code",
      "metadata": {
        "id": "uqcQSEOufJ5P",
        "outputId": "ca6e644b-ac5d-42f2-e122-b26ce577f6ef",
        "colab": {
          "base_uri": "https://localhost:8080/"
        }
      },
      "source": [
        "#please provide your answer below this line.\n",
        "import pandas as pd\n",
        "import numpy as np\n",
        "dates=pd.date_range('20201010',periods=6)\n",
        "df=pd.DataFrame(np.random.randn(6,4),index=dates,columns=list('ABCD'))\n",
        "print(df)\n",
        "print(df.T)\n",
        "print(df.sort_index(ascending=False))"
      ],
      "execution_count": 3,
      "outputs": [
        {
          "output_type": "stream",
          "name": "stdout",
          "text": [
            "                   A         B         C         D\n",
            "2020-10-10 -0.155294 -0.288565 -0.162953  0.119699\n",
            "2020-10-11 -1.475804  0.747398  0.153567 -0.163624\n",
            "2020-10-12  0.169604  0.819186 -1.694699 -0.876699\n",
            "2020-10-13 -1.129316  1.121116  0.836485 -0.159779\n",
            "2020-10-14 -1.642626 -0.400761  2.458829  1.490632\n",
            "2020-10-15  0.364054  0.320368 -0.366242 -1.397958\n",
            "   2020-10-10  2020-10-11  2020-10-12  2020-10-13  2020-10-14  2020-10-15\n",
            "A   -0.155294   -1.475804    0.169604   -1.129316   -1.642626    0.364054\n",
            "B   -0.288565    0.747398    0.819186    1.121116   -0.400761    0.320368\n",
            "C   -0.162953    0.153567   -1.694699    0.836485    2.458829   -0.366242\n",
            "D    0.119699   -0.163624   -0.876699   -0.159779    1.490632   -1.397958\n",
            "                   A         B         C         D\n",
            "2020-10-15  0.364054  0.320368 -0.366242 -1.397958\n",
            "2020-10-14 -1.642626 -0.400761  2.458829  1.490632\n",
            "2020-10-13 -1.129316  1.121116  0.836485 -0.159779\n",
            "2020-10-12  0.169604  0.819186 -1.694699 -0.876699\n",
            "2020-10-11 -1.475804  0.747398  0.153567 -0.163624\n",
            "2020-10-10 -0.155294 -0.288565 -0.162953  0.119699\n"
          ]
        }
      ]
    },
    {
      "cell_type": "markdown",
      "metadata": {
        "id": "ss7s_8iDbAcL"
      },
      "source": [
        ""
      ]
    }
  ]
}