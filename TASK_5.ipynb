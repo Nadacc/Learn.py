{
  "nbformat": 4,
  "nbformat_minor": 0,
  "metadata": {
    "colab": {
      "name": "TASK 5.ipynb",
      "provenance": [],
      "include_colab_link": true
    },
    "kernelspec": {
      "name": "python3",
      "display_name": "Python 3"
    },
    "language_info": {
      "name": "python"
    }
  },
  "cells": [
    {
      "cell_type": "markdown",
      "metadata": {
        "id": "view-in-github",
        "colab_type": "text"
      },
      "source": [
        "<a href=\"https://colab.research.google.com/github/Nadacc/Learn.py/blob/main/TASK_5.ipynb\" target=\"_parent\"><img src=\"https://colab.research.google.com/assets/colab-badge.svg\" alt=\"Open In Colab\"/></a>"
      ]
    },
    {
      "cell_type": "markdown",
      "metadata": {
        "id": "Gu_sxK-id8Zw"
      },
      "source": [
        "1.Given a list l=[23, 45, 25 ,78, 90, 45, 22, 56, 99, 12, 9, 75, 32]\n",
        "\n",
        "Write a single line program to display.\n",
        "\n",
        "a) elements at even index in the list.\n",
        "\n",
        "b) remove the 3 middle elements (45, 22 and 56)"
      ]
    },
    {
      "cell_type": "code",
      "metadata": {
        "id": "hiAZt40tgbu8",
        "outputId": "210a86b9-c238-4788-b510-817743ea6fb3",
        "colab": {
          "base_uri": "https://localhost:8080/"
        }
      },
      "source": [
        "#please write the code below this line\n",
        "l=[23,45,25,78,90,45,22,56,99,12,9,75,32]\n",
        "print(l)\n",
        "print(l[0::2])\n",
        "del l[5:8]\n",
        "print(l)"
      ],
      "execution_count": 1,
      "outputs": [
        {
          "output_type": "stream",
          "text": [
            "[23, 45, 25, 78, 90, 45, 22, 56, 99, 12, 9, 75, 32]\n",
            "[23, 25, 90, 22, 99, 9, 32]\n",
            "[23, 45, 25, 78, 90, 99, 12, 9, 75, 32]\n"
          ],
          "name": "stdout"
        }
      ]
    },
    {
      "cell_type": "markdown",
      "metadata": {
        "id": "EyjCDxcygv2C"
      },
      "source": [
        "2.Given a list lowerCase=['a', 'e', 'i', 'o', 'u']\n",
        "Create a new list upperCase using list comprehension and copy the content of the lowerCase list, but in uppercase (capital letters). (upperCase should be ['A', 'E', 'I', 'O', 'U'])"
      ]
    },
    {
      "cell_type": "code",
      "metadata": {
        "id": "-HhhWi7jhGIj",
        "outputId": "9f0dce67-dfa4-43c1-8432-d4c348a50e6d",
        "colab": {
          "base_uri": "https://localhost:8080/"
        }
      },
      "source": [
        "#please write the code below this line\n",
        "input=['a','e','i','o','u']\n",
        "uppercase=[x.upper()for x in input]\n",
        "print(uppercase)"
      ],
      "execution_count": 2,
      "outputs": [
        {
          "output_type": "stream",
          "text": [
            "['A', 'E', 'I', 'O', 'U']\n"
          ],
          "name": "stdout"
        }
      ]
    },
    {
      "cell_type": "markdown",
      "metadata": {
        "id": "YkTzwuJphPxV"
      },
      "source": [
        "3.Given a tuple fruits = (\"banana\", \"cherry\", \"apple\", \"grapes\")\n",
        "Create 3 variables yellow, red and green and assign them with fruits of their respective color.\n",
        "(yellow=\"banana\", red=[\"cherry\", \"apple\"], green=\"grapes (hint- Use unpacking)"
      ]
    },
    {
      "cell_type": "code",
      "metadata": {
        "id": "cSaKkX2mh33Q",
        "outputId": "6c0ccb6e-f10a-46d4-80ec-747854252855",
        "colab": {
          "base_uri": "https://localhost:8080/"
        }
      },
      "source": [
        "#please write the code below this line\n",
        "fruits=(\"banana\",\"cherry\",\"apple\",\"grapes\")\n",
        "(yellow,*red,green)=fruits\n",
        "print(yellow)\n",
        "print(red)\n",
        "print(green)\n"
      ],
      "execution_count": 8,
      "outputs": [
        {
          "output_type": "stream",
          "text": [
            "banana\n",
            "['cherry', 'apple']\n",
            "grapes\n"
          ],
          "name": "stdout"
        }
      ]
    }
  ]
}